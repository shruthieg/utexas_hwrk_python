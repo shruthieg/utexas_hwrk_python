{
 "cells": [
  {
   "cell_type": "code",
   "execution_count": null,
   "metadata": {},
   "outputs": [],
   "source": [
    "#Perform the same operations as above, based on school type\n",
    "\n",
    "school_type = complete_school_data.groupby(\"type\")\n",
    "#school_type.head()\n",
    "#Now, basic calculations of avg math, avg reading and their percents and overall based on school type is to be done\n",
    "#type_avg_math\n",
    "type_avg_math = school_type[\"math_score\"].mean()\n",
    "#type_reading_math\n",
    "type_avg_reading = school_type[\"reading_score\"].mean()\n",
    "#Type_percent_math\n",
    "#percentage of students passing math = (no.of students with mathscores>=70/total no. of students)*100\n",
    "numerator_value_math = complete_school_data.loc[complete_school_data[\"math_score\"]>=70]\n",
    "numerator_math = numerator_value_math.groupby(\"type\")[\"Student ID\"].count()\n",
    "type_percent_math = (numerator_math/(school_type[\"Student ID\"].count())) * 100\n",
    "#percentage of students passing in reading = (no.of students with readingcores>=70/total no. of students)*100\n",
    "numerator_value_reading = complete_school_data.loc[complete_school_data[\"reading_score\"]>=70]\n",
    "numerator_reading = numerator_value_reading.groupby(\"type\")[\"Student ID\"].count()\n",
    "type_percent_reading = (numerator_reading/(school_type[\"Student ID\"].count())) * 100\n",
    "#overall passing rate = Average of the type_percent_math and type_percent_reading\n",
    "type_overall_passing = (type_percent_math + type_percent_reading)/2\n",
    "\n",
    "final_school_type = pd.DataFrame({\"Average Math Score\": type_avg_math, \"Average Reading Score\": type_avg_reading,\n",
    "                                           \"%Passing Math\": type_percent_math, \"%Passing Reading\": type_percent_reading, \"Overall Passing Rate\": type_overall_passing})\n",
    "final_school_type"
   ]
  }
 ],
 "metadata": {
  "kernelspec": {
   "display_name": "Python 3",
   "language": "python",
   "name": "python3"
  },
  "language_info": {
   "codemirror_mode": {
    "name": "ipython",
    "version": 3
   },
   "file_extension": ".py",
   "mimetype": "text/x-python",
   "name": "python",
   "nbconvert_exporter": "python",
   "pygments_lexer": "ipython3",
   "version": "3.6.5"
  }
 },
 "nbformat": 4,
 "nbformat_minor": 2
}
